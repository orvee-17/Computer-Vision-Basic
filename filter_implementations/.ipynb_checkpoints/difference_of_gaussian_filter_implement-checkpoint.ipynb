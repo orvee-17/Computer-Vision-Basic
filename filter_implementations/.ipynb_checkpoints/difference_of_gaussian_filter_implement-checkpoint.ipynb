{
 "cells": [
  {
   "cell_type": "markdown",
   "metadata": {},
   "source": [
    "### Difference of Gaussian Filter"
   ]
  },
  {
   "cell_type": "code",
   "execution_count": null,
   "metadata": {},
   "outputs": [],
   "source": [
    "import cv2\n",
    "import numpy as np"
   ]
  },
  {
   "cell_type": "code",
   "execution_count": null,
   "metadata": {},
   "outputs": [],
   "source": [
    "#application of difference of Gaussian\n",
    "def dog(img,size=(0,0),k=1.6,sigma=0.5,gamma=1):\n",
    "    img1 = cv2.GaussianBlur(img,size,sigma)\n",
    "    img2 = cv2.GaussianBlur(img,size,sigma*k)\n",
    "    return (img1-gamma*img2)"
   ]
  },
  {
   "cell_type": "code",
   "execution_count": null,
   "metadata": {},
   "outputs": [],
   "source": [
    "# Threshold the dog image\n",
    "def edge_dog(img,sigma=0.5,k=200,gamma=0.98):\n",
    "    aux = dog(img,sigma=sigma,k=k,gamma=0.98)\n",
    "    for i in range(0,aux.shape[0]):\n",
    "        for j in range(0,aux.shape[1]):\n",
    "            if(aux[i,j] > 0):\n",
    "                aux[i,j] = 255\n",
    "            else:\n",
    "                aux[i,j] = 0\n",
    "    return aux"
   ]
  },
  {
   "cell_type": "code",
   "execution_count": null,
   "metadata": {},
   "outputs": [],
   "source": [
    "# garygrossi xdog version\n",
    "def xdog_garygrossi(img,sigma=0.5,k=200, gamma=0.98,epsilon=0.1,phi=10):\n",
    "    aux = dog(img,sigma=sigma,k=k,gamma=gamma)/255\n",
    "    for i in range(0,aux.shape[0]):\n",
    "        for j in range(0,aux.shape[1]):\n",
    "            if(aux[i,j] >= epsilon):\n",
    "                aux[i,j] = 1\n",
    "            else:\n",
    "                ht = np.tanh(phi*(aux[i][j] - epsilon))\n",
    "                aux[i][j] = 1 + ht\n",
    "    return aux*255"
   ]
  },
  {
   "cell_type": "code",
   "execution_count": null,
   "metadata": {},
   "outputs": [],
   "source": [
    "# version of xdog implemented from a paper\n",
    "def xdog(img,sigma=0.5,k=1.6, gamma=1,epsilon=1,phi=1):\n",
    "    aux = dog(img,sigma=sigma,k=k,gamma=gamma)/255\n",
    "    for i in range(0,aux.shape[0]):\n",
    "        for j in range(0,aux.shape[1]):\n",
    "            if(aux[i,j] < epsilon):\n",
    "                aux[i,j] = 1*255\n",
    "            else:\n",
    "                aux[i,j] = 255*(1 + np.tanh(phi*(aux[i,j])))\n",
    "    return aux"
   ]
  },
  {
   "cell_type": "code",
   "execution_count": null,
   "metadata": {},
   "outputs": [],
   "source": [
    "def hatchBlend(image):\n",
    "    xdogImage = xdog(image,sigma=1,k=200, gamma=0.5,epsilon=-0.5,phi=10)\n",
    "    hatchTexture = cv2.imread('daisy2.jpg', cv2.IMREAD_GRAYSCALE)\n",
    "    hatchTexture = cv2.resize(hatchTexture,(image.shape[1],image.shape[0]))\n",
    "    alpha = 0.120\n",
    "    return (1-alpha)*xdogImage + alpha*hatchTexture"
   ]
  },
  {
   "cell_type": "code",
   "execution_count": null,
   "metadata": {},
   "outputs": [],
   "source": [
    "if __name__ == '__main__':\n",
    "    img = cv2.imread('daisy.jpg',cv2.IMREAD_GRAYSCALE)\n",
    "    img = cv2.resize(img,(400,400))\n",
    "    # k = 1.6 as proposed in the paper\n",
    "    k = 1.6\n",
    "    cv2.imshow(\"Original in Grayscale\", img)\n",
    "    cv2.imshow(\"Edge DoG\",edge_dog(img,sigma=0.5,k=200, gamma=0.98))\n",
    "    cv2.imshow(\"XDoG GaryGrossi\",np.uint8(xdog_garygrossi(img,sigma=0.5,k=200, gamma=0.98,epsilon=0.1,phi=10)))\n",
    "    cv2.imshow(\"XDoG Project 1\",np.uint8(xdog(img,sigma=0.4,k=1.6, gamma=0.5,epsilon=-0.5,phi=10)))\n",
    "    cv2.imshow(\"XDoG Project 2\",np.uint8(xdog(img,sigma=1.6,k=1.6, gamma=0.5,epsilon=-1,phi=10)))\n",
    "    cv2.imshow(\"XDoG Project 3 - Natural Media\",np.uint8(xdog(img,sigma=1,k=1.6, gamma=0.5,epsilon=-0.5,phi=10)))\n",
    "    cv2.imshow(\"XDoG Project 4 - Hatch\",np.uint8(hatchBlend(img)))\n",
    "    cv2.waitKey(0)"
   ]
  }
 ],
 "metadata": {
  "kernelspec": {
   "display_name": "Python 3",
   "language": "python",
   "name": "python3"
  },
  "language_info": {
   "codemirror_mode": {
    "name": "ipython",
    "version": 3
   },
   "file_extension": ".py",
   "mimetype": "text/x-python",
   "name": "python",
   "nbconvert_exporter": "python",
   "pygments_lexer": "ipython3",
   "version": "3.7.6"
  }
 },
 "nbformat": 4,
 "nbformat_minor": 4
}
