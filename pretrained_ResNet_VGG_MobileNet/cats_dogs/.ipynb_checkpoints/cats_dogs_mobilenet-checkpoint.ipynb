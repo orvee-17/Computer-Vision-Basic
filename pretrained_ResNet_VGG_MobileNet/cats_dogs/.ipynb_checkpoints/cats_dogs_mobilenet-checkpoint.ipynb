{
 "cells": [
  {
   "cell_type": "code",
   "execution_count": 109,
   "metadata": {},
   "outputs": [],
   "source": [
    "import tensorflow as tf\n",
    "import os\n",
    "import numpy as np\n",
    "from keras.preprocessing.image import ImageDataGenerator\n",
    "from keras.layers.core import Dense,Activation,Flatten\n",
    "from keras.layers.convolutional import Conv2D,MaxPooling2D\n",
    "from keras.applications.mobilenet import MobileNet\n",
    "from keras.models import Model,Sequential, load_model\n",
    "from keras.optimizers import RMSprop, Adam,SGD\n",
    "from keras.callbacks import ModelCheckpoint,EarlyStopping,ReduceLROnPlateau"
   ]
  },
  {
   "cell_type": "code",
   "execution_count": 110,
   "metadata": {},
   "outputs": [],
   "source": [
    "img_row=64\n",
    "img_col=64"
   ]
  },
  {
   "cell_type": "code",
   "execution_count": 111,
   "metadata": {},
   "outputs": [],
   "source": [
    "MobileNet=MobileNet(weights='imagenet',include_top=False,input_shape=(img_row,img_col,3)) #Naam thikmoto dite hobe"
   ]
  },
  {
   "cell_type": "code",
   "execution_count": 112,
   "metadata": {},
   "outputs": [],
   "source": [
    "for layer in MobileNet.layers:\n",
    "    layer.trainable=False\n"
   ]
  },
  {
   "cell_type": "code",
   "execution_count": 113,
   "metadata": {},
   "outputs": [],
   "source": [
    "def AddModelTop(bottom_model, num_classes):\n",
    "    top_model=bottom_model.output\n",
    "    top_model=Flatten()(top_model)\n",
    "    top_model=Dense(256, activation='relu')(top_model)\n",
    "    top_model=Dense(24, activation='relu')(top_model)\n",
    "    top_model=Dense(num_classes, activation='sigmoid')(top_model)\n",
    "    return top_model\n",
    "num_classes=1\n",
    "FC=AddModelTop(MobileNet,num_classes)"
   ]
  },
  {
   "cell_type": "code",
   "execution_count": 114,
   "metadata": {},
   "outputs": [],
   "source": [
    "model=Model(inputs=MobileNet.input,outputs=FC)"
   ]
  },
  {
   "cell_type": "code",
   "execution_count": 115,
   "metadata": {},
   "outputs": [
    {
     "name": "stdout",
     "output_type": "stream",
     "text": [
      "training_set_2\\cats\n",
      "11500\n",
      "training_set_2\\dogs\n",
      "11500\n"
     ]
    }
   ],
   "source": [
    "### how to use dataset to make labels and images\n",
    "import os\n",
    "from pathlib import Path\n",
    "from keras.preprocessing import image\n",
    "path=Path('training_set_2') #give training set path\n",
    "\n",
    "dirs=path.glob('*') #mane directoryr shob folder\n",
    "image_data=[]\n",
    "labels=[]\n",
    "\n",
    "labels_dict={\n",
    "    \"dogs\":0,\n",
    "    \"cats\":1\n",
    "}\n",
    "\n",
    "for dir in dirs:\n",
    "    label=str(dir).split('\\\\')[-1] #mane directoryr folder gula ke string banai pore split kore cat ar dog alada label banai\n",
    "    count=0\n",
    "    print (dir)\n",
    "    #iterate over all folder_dir and pick all the images\n",
    "    for img_path in dir.glob(\"*.jpg\"):\n",
    "        img=image.load_img(img_path, target_size=(64,64))\n",
    "        img_array=image.img_to_array(img)\n",
    "        image_data.append(img_array)\n",
    "        labels.append(labels_dict[label])\n",
    "        count+=1\n",
    "    print(count)\n",
    "\n",
    "\n",
    "#train_data_dir='training_set\\\\training_set'\n",
    "test_data_dir='test_set_2'"
   ]
  },
  {
   "cell_type": "code",
   "execution_count": 127,
   "metadata": {},
   "outputs": [],
   "source": [
    "test_data_dir='test_set\\\\test_set'"
   ]
  },
  {
   "cell_type": "code",
   "execution_count": 128,
   "metadata": {},
   "outputs": [
    {
     "name": "stdout",
     "output_type": "stream",
     "text": [
      "Found 23000 images belonging to 2 classes.\n",
      "Found 2023 images belonging to 2 classes.\n"
     ]
    }
   ],
   "source": [
    "train_datagen = ImageDataGenerator(           #Using data Augmentation\n",
    "                    rescale=1.0/255,\n",
    "                    rotation_range=30,\n",
    "                    width_shift_range=0.3,\n",
    "                    height_shift_range=0.3,\n",
    "                    horizontal_flip=True,\n",
    "                    fill_mode='nearest',\n",
    "                    )\n",
    "\n",
    "test_datagen = ImageDataGenerator(rescale=1.0/255)\n",
    "\n",
    "batch_size=64\n",
    "train_generator=train_datagen.flow_from_directory(\n",
    "                path,\n",
    "                target_size=(img_row,img_col),\n",
    "                batch_size=batch_size,\n",
    "                class_mode='binary',\n",
    "                shuffle=True)\n",
    "test_generator=test_datagen.flow_from_directory(\n",
    "                test_data_dir,\n",
    "                target_size=(img_row,img_col),\n",
    "                batch_size=batch_size,\n",
    "                class_mode='binary'\n",
    "        )"
   ]
  },
  {
   "cell_type": "code",
   "execution_count": 129,
   "metadata": {},
   "outputs": [],
   "source": [
    "model.compile(loss='binary_crossentropy',\n",
    "             optimizer=Adam(lr=.001),\n",
    "             metrics=['accuracy'])"
   ]
  },
  {
   "cell_type": "code",
   "execution_count": 130,
   "metadata": {},
   "outputs": [],
   "source": [
    "reduce_LR=ReduceLROnPlateau(monitor='val_loss', #helps to monitor if val_loss;if it doesn't reduce after 5 epochs, the learning rate will be decreased and checked again in the same way;this will be done upto lr=.001\n",
    "                                            patience=5, \n",
    "                                            verbose=1, \n",
    "                                            factor=0.2, \n",
    "                                            min_lr=0.0001)\n",
    "\n",
    "training_samples=8005\n",
    "testing_samples=2023\n",
    "batch_size=64\n",
    "epochs=10"
   ]
  },
  {
   "cell_type": "code",
   "execution_count": 131,
   "metadata": {
    "scrolled": true
   },
   "outputs": [
    {
     "name": "stdout",
     "output_type": "stream",
     "text": [
      "Epoch 1/10\n",
      "126/125 [==============================] - 156s 1s/step - loss: 0.5642 - accuracy: 0.7152 - val_loss: 0.3947 - val_accuracy: 0.7879\n",
      "Epoch 2/10\n",
      "126/125 [==============================] - 157s 1s/step - loss: 0.5077 - accuracy: 0.7471 - val_loss: 0.4238 - val_accuracy: 0.7879\n",
      "Epoch 3/10\n",
      "126/125 [==============================] - 159s 1s/step - loss: 0.5041 - accuracy: 0.7462 - val_loss: 0.3045 - val_accuracy: 0.8206\n",
      "Epoch 4/10\n",
      "126/125 [==============================] - 57s 450ms/step - loss: 0.5009 - accuracy: 0.7512 - val_loss: 0.3079 - val_accuracy: 0.8235\n",
      "Epoch 5/10\n",
      "126/125 [==============================] - 57s 452ms/step - loss: 0.4876 - accuracy: 0.7582 - val_loss: 0.3308 - val_accuracy: 0.8082\n",
      "Epoch 6/10\n",
      "126/125 [==============================] - 60s 477ms/step - loss: 0.4777 - accuracy: 0.7657 - val_loss: 0.3892 - val_accuracy: 0.8324\n",
      "Epoch 7/10\n",
      "126/125 [==============================] - 60s 476ms/step - loss: 0.4742 - accuracy: 0.7661 - val_loss: 0.2046 - val_accuracy: 0.8334\n",
      "Epoch 8/10\n",
      "126/125 [==============================] - 58s 458ms/step - loss: 0.4735 - accuracy: 0.7631 - val_loss: 0.4066 - val_accuracy: 0.8220\n",
      "Epoch 9/10\n",
      "126/125 [==============================] - 57s 452ms/step - loss: 0.4784 - accuracy: 0.7679 - val_loss: 0.2887 - val_accuracy: 0.8349\n",
      "Epoch 10/10\n",
      "126/125 [==============================] - 58s 461ms/step - loss: 0.4643 - accuracy: 0.7734 - val_loss: 0.3714 - val_accuracy: 0.8181\n"
     ]
    }
   ],
   "source": [
    "history=model.fit_generator(\n",
    "                train_generator,\n",
    "                steps_per_epoch=training_samples/batch_size,\n",
    "                epochs=epochs,\n",
    "                callbacks=[reduce_LR],\n",
    "                validation_data=test_generator,\n",
    "                validation_steps=testing_samples/batch_size,\n",
    "                shuffle=True)"
   ]
  },
  {
   "cell_type": "code",
   "execution_count": 132,
   "metadata": {},
   "outputs": [],
   "source": [
    "model.save('cats_dogs_newdataset_10epochs')"
   ]
  },
  {
   "cell_type": "code",
   "execution_count": 50,
   "metadata": {},
   "outputs": [],
   "source": [
    "#saving the history file as a pickle\n",
    "\n",
    "import pickle \n",
    "\n",
    "pickle_out = open(\"cats_dogs_mobilenet_10epochs.pickle\",\"wb\")\n",
    "pickle.dump(history.history, pickle_out)\n",
    "pickle_out.close()"
   ]
  },
  {
   "cell_type": "code",
   "execution_count": 51,
   "metadata": {},
   "outputs": [
    {
     "name": "stdout",
     "output_type": "stream",
     "text": [
      "{'val_loss': [0.06721208989620209, 0.06244359165430069, 0.015099244192242622, 0.008679737336933613, 0.02566646598279476, 0.001053245854564011, 0.024893293157219887, 0.04351194575428963, 3.225459575653076, 4.738265514373779], 'val_accuracy': [0.9372219443321228, 0.9629263281822205, 0.9461196064949036, 0.9589717984199524, 0.9634206891059875, 0.9728126525878906, 0.971824049949646, 0.9678695201873779, 0.969846785068512, 0.9673751592636108], 'loss': [0.844911413975316, 0.2522087303382914, 0.2254957238262255, 0.20010368761436073, 0.19507901098004435, 0.18232359445742857, 0.18485037799107887, 0.1759276869444457, 0.1645363915793081, 0.16682413505305357], 'accuracy': [0.83747655, 0.8990631, 0.9060587, 0.91830105, 0.91992503, 0.92692065, 0.9277951, 0.93129295, 0.93529046, 0.9330419], 'lr': [0.001, 0.001, 0.001, 0.001, 0.001, 0.001, 0.001, 0.001, 0.001, 0.001]}\n"
     ]
    }
   ],
   "source": [
    "#loading out the saved pickle folder\n",
    "\n",
    "pickle_in = open(\"cats_dogs_mobilenet_10epochs.pickle\",\"rb\")\n",
    "saved_history = pickle.load(pickle_in)\n",
    "print(saved_history)"
   ]
  },
  {
   "cell_type": "code",
   "execution_count": 52,
   "metadata": {},
   "outputs": [
    {
     "data": {
      "image/png": "[encoded data removed]",
      "text/plain": [
       "<Figure size 432x288 with 1 Axes>"
      ]
     },
     "metadata": {
      "needs_background": "light"
     },
     "output_type": "display_data"
    }
   ],
   "source": [
    "# Plotting our loss charts\n",
    "import matplotlib.pyplot as plt\n",
    "\n",
    "history_dict = history.history\n",
    "\n",
    "loss_values = history_dict['loss']\n",
    "val_loss_values = history_dict['val_loss']\n",
    "epochs = range(1, len(loss_values) + 1)\n",
    "\n",
    "line1 = plt.plot(epochs, val_loss_values, label='Validation/Test Loss')\n",
    "line2 = plt.plot(epochs, loss_values, label='Training Loss')\n",
    "plt.setp(line1, linewidth=2.0, marker = '+', markersize=10.0)\n",
    "plt.setp(line2, linewidth=2.0, marker = '4', markersize=10.0)\n",
    "plt.xlabel('Epochs') \n",
    "plt.ylabel('Loss')\n",
    "plt.grid(True)\n",
    "plt.legend()\n",
    "plt.show()"
   ]
  },
  {
   "cell_type": "code",
   "execution_count": 54,
   "metadata": {},
   "outputs": [
    {
     "data": {
      "image/png": "[encoded data removed]",
      "text/plain": [
       "<Figure size 432x288 with 1 Axes>"
      ]
     },
     "metadata": {
      "needs_background": "light"
     },
     "output_type": "display_data"
    }
   ],
   "source": [
    "# Plotting our accuracy charts\n",
    "import matplotlib.pyplot as plt\n",
    "\n",
    "history_dict = history.history\n",
    "\n",
    "acc_values = history_dict['accuracy']\n",
    "val_acc_values = history_dict['val_accuracy']\n",
    "epochs = range(1, len(loss_values) + 1)\n",
    "\n",
    "line1 = plt.plot(epochs, val_acc_values, label='Validation/Test Accuracy')\n",
    "line2 = plt.plot(epochs, acc_values, label='Training Accuracy')\n",
    "plt.setp(line1, linewidth=2.0, marker = '+', markersize=10.0)\n",
    "plt.setp(line2, linewidth=2.0, marker = '4', markersize=10.0)\n",
    "plt.xlabel('Epochs') \n",
    "plt.ylabel('Accuracy')\n",
    "plt.grid(True)\n",
    "plt.legend()\n",
    "plt.show()"
   ]
  },
  {
   "cell_type": "code",
   "execution_count": 70,
   "metadata": {},
   "outputs": [],
   "source": [
    "model_2=load_model('cats_vs_dogs_V1.h5')"
   ]
  },
  {
   "cell_type": "code",
   "execution_count": 134,
   "metadata": {},
   "outputs": [
    {
     "name": "stdout",
     "output_type": "stream",
     "text": [
      "Confusion Matrix\n",
      "[[1011    0]\n",
      " [1012    0]]\n",
      "Classification Report\n",
      "              precision    recall  f1-score   support\n",
      "\n",
      "           0       0.50      1.00      0.67      1011\n",
      "           1       0.00      0.00      0.00      1012\n",
      "\n",
      "    accuracy                           0.50      2023\n",
      "   macro avg       0.25      0.50      0.33      2023\n",
      "weighted avg       0.25      0.50      0.33      2023\n",
      "\n"
     ]
    }
   ],
   "source": [
    "from sklearn.metrics import classification_report,confusion_matrix\n",
    "\n",
    "Y_pred = model.predict_generator(test_generator, testing_samples // batch_size+1)\n",
    "y_pred = np.argmax(Y_pred, axis=1)\n",
    "print('Confusion Matrix')\n",
    "print(confusion_matrix(test_generator.classes, y_pred))\n",
    "print('Classification Report')\n",
    "#target_names = list(class_labels.values())                                 #['class 0','class 1']\n",
    "print(classification_report(test_generator.classes, y_pred, target_names=None))"
   ]
  },
  {
   "cell_type": "code",
   "execution_count": null,
   "metadata": {},
   "outputs": [],
   "source": []
  }
 ],
 "metadata": {
  "kernelspec": {
   "display_name": "Python 3",
   "language": "python",
   "name": "python3"
  },
  "language_info": {
   "codemirror_mode": {
    "name": "ipython",
    "version": 3
   },
   "file_extension": ".py",
   "mimetype": "text/x-python",
   "name": "python",
   "nbconvert_exporter": "python",
   "pygments_lexer": "ipython3",
   "version": "3.7.6"
  }
 },
 "nbformat": 4,
 "nbformat_minor": 4
}
