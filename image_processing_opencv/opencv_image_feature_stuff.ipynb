{
 "cells": [
  {
   "cell_type": "markdown",
   "metadata": {},
   "source": [
    "### Various image processing techniques using opencv"
   ]
  },
  {
   "cell_type": "code",
   "execution_count": 2,
   "metadata": {},
   "outputs": [],
   "source": [
    "import numpy as np\n",
    "import cv2"
   ]
  },
  {
   "cell_type": "markdown",
   "metadata": {},
   "source": [
    "### To draw various shapes using opencv like circles, polygons and write texts"
   ]
  },
  {
   "cell_type": "code",
   "execution_count": 4,
   "metadata": {
    "scrolled": true
   },
   "outputs": [],
   "source": [
    "img=cv2.imread('sunflower2.jpg',1)\n",
    "cv2.line(img, (0,0), (110,110), (255,0,0), 15) # draw line from 00 to 110,110 and color in bgr format, linewidth\n",
    "cv2.rectangle(img,(15,5),(200,180),(255,100,55),5)# for rectangle\n",
    "font=cv2.FONT_HERSHEY_SIMPLEX\n",
    "cv2.putText(img,'What i wanna write',(0,120),font,5,(255,0,0),2,cv2.LINE_AA)#starting point, size=5,thickness=2\n",
    "\n",
    "cv2.imshow('image',img)\n",
    "cv2.waitKey(0)\n",
    "cv2.destroyAllWindows()"
   ]
  },
  {
   "cell_type": "markdown",
   "metadata": {},
   "source": [
    " # Image operations and ROI(Region of Interest)"
   ]
  },
  {
   "cell_type": "code",
   "execution_count": 6,
   "metadata": {},
   "outputs": [],
   "source": [
    "img[10:115,150:200]=[0,255,0]  #starting position to end position of ROI in the image = colour of the box\n",
    "cv2.imshow('image',img)\n",
    "cv2.waitKey()\n",
    "cv2.destroyAllWindows()\n",
    "    "
   ]
  },
  {
   "cell_type": "markdown",
   "metadata": {},
   "source": [
    "### Image arithmetics and logics"
   ]
  },
  {
   "cell_type": "code",
   "execution_count": null,
   "metadata": {},
   "outputs": [],
   "source": [
    "####image arithmetics and logics\n",
    "# img1=cv2.imread('sunflower2.jpg')\n",
    "# cv2.add(img1,img2) - adds the pixels of the two images\n",
    "# img=img1+img2\n",
    "#ekta image er upor arekta image er mask boshaite chaile ;image 2 ke img 1 er upor boshabo"
   ]
  },
  {
   "cell_type": "markdown",
   "metadata": {},
   "source": [
    "### Image masking"
   ]
  },
  {
   "cell_type": "code",
   "execution_count": 38,
   "metadata": {},
   "outputs": [],
   "source": [
    "#ekta image er upor arekta image er mask boshaite chaile ;image 2 ke img 1 er upor boshabo\n",
    "img1=cv2.imread('sunflower2.jpg')\n",
    "img2=cv2.imread('rose.jpg')\n",
    "\n",
    "row,col,channel=img2.shape\n",
    "roi=img1[0:row,0:col]\n",
    "\n",
    "img2gray=cv2.cvtColor(img2, cv2.COLOR_BGR2GRAY)\n",
    "ret,mask=cv2.threshold(img2gray,220,255,cv2.THRESH_BINARY_INV) #mane 255 er upor hoile white &220 er niche hoile black consider korbe\n",
    "cv2.imshow('mask',mask)          #threshold korsi emon bhabe jate background black ar logo ta white thake in the image according to the tutor's picture\n",
    "\n",
    "cv2.waitKey()\n",
    "cv2.destroyAllWindows()"
   ]
  },
  {
   "cell_type": "markdown",
   "metadata": {},
   "source": [
    "### Different thresholding techniques(converts image to 1 or 0 & is useful for low light condition)\n"
   ]
  },
  {
   "cell_type": "code",
   "execution_count": 15,
   "metadata": {},
   "outputs": [],
   "source": [
    "img=cv2.imread('rose.jpg')\n",
    "img2gray=cv2.cvtColor(img, cv2.COLOR_BGR2GRAY)\n",
    "ret,threshold=cv2.threshold(img2gray,15,220,cv2.THRESH_BINARY_INV) #low light hoile starting pixel kom dite hoi like 15 jate 15 er beshi hoile white hoi ar kom hoile back. Normal light ala chobi te starting pixel barai dite hoi aro oneek\n",
    "\n",
    "grayscaled=cv2.cvtColor(img,cv2.COLOR_BGR2GRAY)\n",
    "ret2,threshold2=cv2.threshold(grayscaled,15,220,cv2.THRESH_BINARY_INV)\n",
    "\n",
    "gaus=cv2.adaptiveThreshold(grayscaled, 255, cv2.ADAPTIVE_THRESH_GAUSSIAN_C,cv2.THRESH_BINARY,115,1)#maybe best\n",
    "\n",
    "ret3,otsu=cv2.threshold(grayscaled,15,220,cv2.THRESH_BINARY+cv2.THRESH_OTSU)\n",
    "\n",
    "cv2.imshow('image',img2)\n",
    "cv2.imshow('threshold',threshold)\n",
    "cv2.imshow('threshold2',threshold2)\n",
    "cv2.imshow('gaus',gaus)\n",
    "cv2.imshow('otsu',otsu)\n",
    "\n",
    "cv2.waitKey()\n",
    "cv2.destroyAllWindows() #you can in the same way apply these threshold for a video feed"
   ]
  },
  {
   "cell_type": "markdown",
   "metadata": {},
   "source": [
    "### Colour Filtering"
   ]
  },
  {
   "cell_type": "code",
   "execution_count": 51,
   "metadata": {},
   "outputs": [],
   "source": [
    "#Filtering specific range of colour so that we can find that colour or remove that colour from the image\n",
    "#HSV=HUE SATURATION VALUE; reason to use this instead of rgb or bgr is due to range purpose. Its parameters\n",
    "#are more independent of the other parameters, so it is used to find out the range of color.\n",
    "cap = cv2.VideoCapture(0)\n",
    "\n",
    "while(0):\n",
    "    _,_,frame=cap.read()\n",
    "    #frame=frame.shape\n",
    "    frame = np.array(frame, dtype=np.uint8)\n",
    "    hsv=cv2.cvtColor(frame,cv2.COLOR_BGR2HSV) #hsv used to mark out a unique color and seperate it from the image\n",
    "    lower_unique_color_range=np.array([180,150,150]) # ei range ta tune korei ekta specific colour er range ber korte hobe \n",
    "    higher_unique_color_range=np.array([180,255,180])    \n",
    "    #now we create the mask\n",
    "    mask=cv2.inRange(hsv,lower_unique_color_range,higher_unique_color_range)\n",
    "    result=cv2.bitwise_and(frame,frame,mask=mask) #APPLY TO FRAME WHERE THE FRAME IS EQUAL TO FRAME AND MASK=MASK\n",
    "                                            #so in within the range, mask is 1, else 0(black).\n",
    "                                           #and operation:where there are one and masks, we show the frame color\n",
    "\n",
    "    cv2.imshow('frames',frame)        \n",
    "    cv2.imshow('mask',mask) \n",
    "    cv2.imshow('result',result) \n",
    "cv2.waitKey(0)\n",
    "cap.release()\n",
    "cv2.destroyAllWindows()"
   ]
  },
  {
   "cell_type": "code",
   "execution_count": 39,
   "metadata": {},
   "outputs": [],
   "source": [
    "\n",
    "cv2.waitKey()\n",
    "cv2.destroyAllWindows()"
   ]
  },
  {
   "cell_type": "markdown",
   "metadata": {},
   "source": [
    "### Different blurring techniques"
   ]
  },
  {
   "cell_type": "code",
   "execution_count": 52,
   "metadata": {},
   "outputs": [],
   "source": [
    "cap = cv2.VideoCapture(0)\n",
    "\n",
    "while(0):\n",
    "    _,_,frame=cap.read()\n",
    "    #frame=frame.shape\n",
    "    frame = np.array(frame, dtype=np.uint8)\n",
    "    hsv=cv2.cvtColor(frame,cv2.COLOR_BGR2HSV) #HSV used to mark out a unique color and seperate it from the image\n",
    "    lower_unique_color_range=np.array([180,150,150]) # tune this range to find out a specific colour range \n",
    "    higher_unique_color_range=np.array([180,255,180])    \n",
    "    #now we create the mask\n",
    "    mask=cv2.inRange(hsv,lower_unique_color_range,higher_unique_color_range)\n",
    "    result=cv2.bitwise_and(frame,frame,mask=mask) #APPLY TO FRAME WHERE THE FRAME IS EQUAL TO FRAME AND MASK=MASK\n",
    "                                            #so in within the range, mask is 1, else 0(black).\n",
    "                                           #and operation:where there are one and masks, we show the frame color\n",
    "    kernel=np.ones((15,15), np.float32)/225 #here divided by 15x15=225. always remember duitar multiplication diye divide hobe\n",
    "   \n",
    "    smoothed=cv2.filter2D(res,-1,kernel)\n",
    "    blur=cv2.GaussianBlur(res,(15,15),0)\n",
    "    median=cv2.medianBlur(res,15)\n",
    "    bilateral=cv2.bilateralFilter(res,15,75,75) #Less important filter\n",
    "\n",
    "    cv2.imshow('blur',blur)        \n",
    "    cv2.imshow('median',median) \n",
    "    cv2.imshow('bilateral',bilateral) \n",
    "cv2.waitKey(0)\n",
    "cap.release()\n",
    "cv2.destroyAllWindows()"
   ]
  },
  {
   "cell_type": "markdown",
   "metadata": {},
   "source": [
    "### To load videos in camera"
   ]
  },
  {
   "cell_type": "code",
   "execution_count": null,
   "metadata": {},
   "outputs": [],
   "source": [
    "cap=cv2.VideoCapture(0) # 0 for webcam or to load a video file write the filename inside of the brackets\n",
    "# record=cv2.VideoWriter_record(*'my_vid')  #to record the video after turning the webcam on\n",
    "# out-=cv2.VideoWriter('output.avi',record,20,(480,600))\n",
    "\n",
    "while cap.isOpened():\n",
    "    ret, frame= cap.read()\n",
    "    gray= cv2.cvtColor(frame, cv2.COLOR_BGR2GRAY)\n",
    "    out.write(frame)\n",
    "    cv2.imshow('frame', frame)\n",
    "    cv2.imshow('frame', frame) # two webcam window will pop up in grayscale\n",
    "\n",
    "    \n",
    "    if cv2.waitKey(1) & 0xFF==ord(\"q\"): # 1 or q if pressed, camera window will exit\n",
    "        break\n",
    "        \n",
    "cap.release()  # to turn the camera off \n",
    "#out.release()\n",
    "cv2.destroyAllWindows()"
   ]
  },
  {
   "cell_type": "code",
   "execution_count": null,
   "metadata": {},
   "outputs": [],
   "source": []
  },
  {
   "cell_type": "code",
   "execution_count": null,
   "metadata": {},
   "outputs": [],
   "source": []
  },
  {
   "cell_type": "code",
   "execution_count": null,
   "metadata": {},
   "outputs": [],
   "source": []
  }
 ],
 "metadata": {
  "kernelspec": {
   "display_name": "Python 3",
   "language": "python",
   "name": "python3"
  },
  "language_info": {
   "codemirror_mode": {
    "name": "ipython",
    "version": 3
   },
   "file_extension": ".py",
   "mimetype": "text/x-python",
   "name": "python",
   "nbconvert_exporter": "python",
   "pygments_lexer": "ipython3",
   "version": "3.7.6"
  }
 },
 "nbformat": 4,
 "nbformat_minor": 4
}
